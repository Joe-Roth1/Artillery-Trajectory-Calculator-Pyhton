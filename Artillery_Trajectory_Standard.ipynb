import numpy as np
import matplotlib.pyplot as plt
#define initial values 

#these are the only variables you need to change
V=353 # velocity m/s
theta = np.radians(1.9) # enter angle of cannon in degrees it will automatically convert to radians 



c=10**-3 # shape and density of the artillery shell combined with density of the air. 
h= 0 # height in meters
Vy= V*np.sin(theta) # vertical velocity
Vx= V*np.cos(theta) # horizontal velocity 
g=-9.81-c*Vy*np.sqrt((Vx**2)+(Vy**2)) # gravity m/s^2 taking into account of the artillery shell and air density 
t= (2*Vy)/g # time 
hf = (Vy**2)/(2*g) # final height 
R= 2*Vx*Vy/g # final range
percent_error = abs(( (abs(R)/1609.344)-0.5)/0.5)*100
print('theta is:',np.degrees(theta), 'degrees')
print('time is:',abs(t), 'seconds')
print('Max height is:',abs(hf),'meters')
print('Distance of the shell is:' ,abs(R), 'meters or', abs(R)/1609.344, 'miles')
print('Percent Error: ', percent_error,'%') # you don't actually need this part, it's just for me so I have reference to go off of


x = np.linspace(0,abs(R),100) 
plt.ylim(0,abs(hf)+10)
def f(x):
  return h+(x*np.tan(theta))+(g*(x**2))/(2*V**2)*(np.cos(theta)**2)
y0 = f(x)
# plot each of the functions 
# (notice that they will be on the same axes)
plt.plot(x, y0, 'r-', label=r"$f(x)=h+xtan(theta)-gx²/2V₀²cos²(theta)$")



# put in a grid, legend, title, and axis labels
plt.grid()
plt.legend()
plt.title("Artillery Trajectory from an initial height of 0")
plt.xlabel('Range of shell (meters)')
plt.ylabel('Height of cannon (meters)')
plt.show()
